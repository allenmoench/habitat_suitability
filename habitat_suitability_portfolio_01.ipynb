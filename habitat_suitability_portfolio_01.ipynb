{
 "cells": [
  {
   "cell_type": "markdown",
   "metadata": {},
   "source": [
    "# Phragmites australis (\"Carrizo\"), and the Comanche National Grassland\n",
    "\n",
    "### The Comanche National Grassland\n",
    "The Comanche National Grassland in southeast Colorado consists of about 450,000 acres of land, managed by the USDA Forest Service (Source: USFS https://www.fs.usda.gov/recarea/psicc/recarea/?recid=12409). It is named in honor of the Comanche tribe, which was centrally located here for 150 years, from approximately 1700-1850. The Comanche arrived in this area (indirectly) from Mexico, which is evident partly from words in their language such as \"tecolotl\", a word meaning \"owl\" which stems from the Aztec language Nahuatl (Source: Hazlett). \n",
    "\n",
    "The Comanche National Grassland is split into two units. The Timpas region is further West, and possibly named after a Spanish word for a bar of iron, which is a reference to geological formations containing iron in that area. The name Carrizo refers to common reed grass, Phragmites australis.\n",
    "\n",
    "### Species Descriptions\n",
    "\n",
    "Sorghastrum nutans, colloquially known as indiangrass is a \"tall, bunching sod-former, 3-8 ft. in height, with broad blue-green blades and a large, plume-like, soft, golden-brown seed head. This showy perennial’s fall color is deep orange to purple\" (Source: Texas University Plant Database https://www.wildflower.org/plants/result.php?id_plant=sonu2). The optimal environmental conditions and tolerance ranges for Sorghastrum nutans are as follows:\n",
    "\n",
    "- Indiangrass is adapted to deep, moist soils ranging from heavy clays to sand.\n",
    "- \"Is adapted to a pH range of 4.8 to 8.0\" (Source: USDA). For purposes of this model, we'll assume that 4.8 and 8.0 are the tolerance range, and that optimal growing conditions are represented by the median value between these two, which is 6.4. To make this a range, I added an arbitrary buffer of 0.4, or 6.0-6.8.\n",
    "- medium tolerance to salinity and drought\n",
    "- adapted to periodic burning and survives by sprouting from underground rhizomes\n",
    "- Occurs in areas receiving between 11-45 inches of annual precipitation. This is the tolerance range. I couldn't find a source for the optimal range, so I took the median value between 11 and 45, which is 28. I made this into a range spanning 6 inches of precipitation, or 25-31 inches for the tolerance range.\n",
    "- Monocultures of Sorghastrum nutans do not respond well to prescribed burning, however in mixed stands it shows increased productivity.\n",
    "\n",
    "- Optimal temperatures for growth are between 85-95 degrees farenheit, and lower-range tolerance is 60. (Source: https://www.thespruce.com/indian-grass-plant-profile-5069914)\n",
    "\n",
    "(Source: USDA https://www.nrcs.usda.gov/plantmaterials/etpmcpg13196.pdf)\n",
    "\n",
    "(Still need: Optimal temperature and tolerances)\n",
    "\n",
    "### Changing climate, changing conditions\n",
    "Plant species like Sorghastrum nutans and Phragmites australis rely on particular parameters for the suitability of their habitat, for example temperature, precipitation, and soil or ecosystem type. As the climate shifts, these parameters also shift, which changes the habitat characteristics and range of the species. In this study, I plan to use a climate model to project the distribution of these habitat parameters across the Comanche National Grassland for a future scenario.\n",
    "\n",
    "### Methods:\n",
    "\n",
    "To project the habitat suitability of Sorghastrum nutans given a future climate scenario, I downloaded data for several different habitat variables. Due to time constraints I was only able to download data for two variables: soil pH and elevation. For a future complete analysis, other variables would be added such as soil temperature, precipitation, and soil type. For the time being, these two variables are sufficient for a proof concept and to test the code, even if they do not give a complete analysis of changing conditions for Sorghastrum nutans. My initial project goal was to do a similar analysis for the Pawnee National Grassland, and given time to analyze a second grass species, perhaps Phragmites australis (reed grass) which part of the Comanche National Grassland is named after.\n",
    "\n",
    "\n",
    "More variables may be added in the future, however at the time of writing only soil pH and elevation have been downloaded. I will also download boundaries for the Comanche National Grassland, "
   ]
  }
 ],
 "metadata": {
  "language_info": {
   "name": "python"
  }
 },
 "nbformat": 4,
 "nbformat_minor": 2
}
